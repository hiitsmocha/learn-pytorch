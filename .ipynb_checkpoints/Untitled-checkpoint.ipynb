{
 "cells": [
  {
   "cell_type": "code",
   "execution_count": null,
   "id": "499e3e10-1c2c-4d04-98b5-3efd709a13f9",
   "metadata": {},
   "outputs": [],
   "source": [
    "import requests\n",
    "\n",
    "url = \"https://www.openml.org/data/download/22102255/dataset\"\n",
    "r = requests.get(url, allow_redirects = True)"
   ]
  },
  {
   "cell_type": "code",
   "execution_count": null,
   "id": "99e2a02c-0ef5-4ec9-8443-3553e9a2c8f6",
   "metadata": {},
   "outputs": [],
   "source": [
    "with open(\"dataset.txt\", \"wb\") as f:\n",
    "    f.write(r.content)\n",
    "          "
   ]
  },
  {
   "cell_type": "code",
   "execution_count": null,
   "id": "7aca0825-6c8c-4966-a3a0-114bd1d04ff4",
   "metadata": {},
   "outputs": [],
   "source": []
  }
 ],
 "metadata": {
  "kernelspec": {
   "display_name": "Python 3 (ipykernel)",
   "language": "python",
   "name": "python3"
  },
  "language_info": {
   "codemirror_mode": {
    "name": "ipython",
    "version": 3
   },
   "file_extension": ".py",
   "mimetype": "text/x-python",
   "name": "python",
   "nbconvert_exporter": "python",
   "pygments_lexer": "ipython3",
   "version": "3.13.1"
  }
 },
 "nbformat": 4,
 "nbformat_minor": 5
}
